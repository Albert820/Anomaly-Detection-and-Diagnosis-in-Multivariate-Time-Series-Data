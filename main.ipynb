{
 "cells": [
  {
   "cell_type": "code",
   "execution_count": 1,
   "id": "d3490ec1-8a80-4cea-bd96-8af21fe58c75",
   "metadata": {},
   "outputs": [],
   "source": [
    "import torch\n",
    "import torch.nn as nn\n",
    "import torch.functional as F \n",
    "from tqdm import tqdm\n",
    "from model.mscred import MSCRED\n",
    "from utils.data import load_data\n",
    "import matplotlib.pyplot as plt\n",
    "import numpy as np\n",
    "import os"
   ]
  },
  {
   "cell_type": "code",
   "execution_count": 2,
   "id": "f9b03225-7980-47fc-a0c9-5c455bf72c09",
   "metadata": {},
   "outputs": [],
   "source": [
    "def train(dataLoader, model, optimizer, epochs, device):\n",
    "    model = model.to(device)\n",
    "    print(\"------training on {}-------\".format(device))\n",
    "    for epoch in range(epochs):\n",
    "        train_l_sum,n = 0.0, 0\n",
    "        for x in tqdm(dataLoader):\n",
    "            x = x.to(device)\n",
    "            x = x.squeeze()\n",
    "            #print(type(x))\n",
    "            l = torch.mean((model(x)-x[-1].unsqueeze(0))**2)\n",
    "            train_l_sum += l\n",
    "            optimizer.zero_grad()\n",
    "            l.backward()\n",
    "            optimizer.step()\n",
    "            n += 1\n",
    "            #print(\"[Epoch %d/%d][Batch %d/%d] [loss: %f]\" % (epoch+1, epochs, n, len(dataLoader), l.item()))\n",
    "            \n",
    "        print(\"[Epoch %d/%d] [loss: %f]\" % (epoch+1, epochs, train_l_sum/n))\n",
    "\n",
    "def test(dataLoader, model):\n",
    "    print(\"------Testing-------\")\n",
    "    index = 800\n",
    "    loss_list = []\n",
    "    reconstructed_data_path = \"./utils/data/matrix_data/reconstructed_data/\"\n",
    "    \n",
    "    if not os.path.exists(reconstructed_data_path):\n",
    "        os.makedirs(reconstructed_data_path)\n",
    "    \n",
    "    with torch.no_grad():\n",
    "        for x in dataLoader:\n",
    "            x = x.to(device)\n",
    "            x = x.squeeze()\n",
    "            reconstructed_matrix = model(x) \n",
    "            path_temp = os.path.join(reconstructed_data_path, 'reconstructed_data_' + str(index) + \".npy\")\n",
    "            np.save(path_temp, reconstructed_matrix.cpu().detach().numpy())\n",
    "            # l = criterion(reconstructed_matrix, x[-1].unsqueeze(0)).mean()\n",
    "            # loss_list.append(l)\n",
    "            # print(\"[test_index %d] [loss: %f]\" % (index, l.item()))\n",
    "            index += 1"
   ]
  },
  {
   "cell_type": "code",
   "execution_count": 3,
   "id": "3fc0b98b-3530-453d-9e60-c1971bbae459",
   "metadata": {},
   "outputs": [
    {
     "name": "stdout",
     "output_type": "stream",
     "text": [
      "device is cuda\n",
      "------training on cuda-------\n"
     ]
    },
    {
     "name": "stderr",
     "output_type": "stream",
     "text": [
      "  0%|                                                                                           | 0/789 [00:00<?, ?it/s]"
     ]
    },
    {
     "name": "stdout",
     "output_type": "stream",
     "text": [
      "input.shape:  torch.Size([5, 32, 30, 30])\n",
      "x.shape:  torch.Size([1, 32, 30, 30])\n"
     ]
    },
    {
     "name": "stderr",
     "output_type": "stream",
     "text": [
      "\n"
     ]
    },
    {
     "ename": "IndexError",
     "evalue": "index 1 is out of bounds for dimension 0 with size 1",
     "output_type": "error",
     "traceback": [
      "\u001b[0;31m---------------------------------------------------------------------------\u001b[0m",
      "\u001b[0;31mIndexError\u001b[0m                                Traceback (most recent call last)",
      "Cell \u001b[0;32mIn[3], line 10\u001b[0m\n\u001b[1;32m      7\u001b[0m \u001b[38;5;66;03m# 训练阶段\u001b[39;00m\n\u001b[1;32m      8\u001b[0m \u001b[38;5;66;03m# mscred.load_state_dict(torch.load(\"./checkpoints/model1.pth\"))\u001b[39;00m\n\u001b[1;32m      9\u001b[0m optimizer \u001b[38;5;241m=\u001b[39m torch\u001b[38;5;241m.\u001b[39moptim\u001b[38;5;241m.\u001b[39mAdam(mscred\u001b[38;5;241m.\u001b[39mparameters(), lr \u001b[38;5;241m=\u001b[39m \u001b[38;5;241m0.0002\u001b[39m)\n\u001b[0;32m---> 10\u001b[0m train(dataLoader[\u001b[38;5;124m\"\u001b[39m\u001b[38;5;124mtrain\u001b[39m\u001b[38;5;124m\"\u001b[39m], mscred, optimizer, \u001b[38;5;241m10\u001b[39m, device)\n",
      "Cell \u001b[0;32mIn[2], line 10\u001b[0m, in \u001b[0;36mtrain\u001b[0;34m(dataLoader, model, optimizer, epochs, device)\u001b[0m\n\u001b[1;32m      8\u001b[0m x \u001b[38;5;241m=\u001b[39m x\u001b[38;5;241m.\u001b[39msqueeze()\n\u001b[1;32m      9\u001b[0m \u001b[38;5;66;03m#print(type(x))\u001b[39;00m\n\u001b[0;32m---> 10\u001b[0m l \u001b[38;5;241m=\u001b[39m torch\u001b[38;5;241m.\u001b[39mmean((model(x)\u001b[38;5;241m-\u001b[39mx[\u001b[38;5;241m-\u001b[39m\u001b[38;5;241m1\u001b[39m]\u001b[38;5;241m.\u001b[39munsqueeze(\u001b[38;5;241m0\u001b[39m))\u001b[38;5;241m*\u001b[39m\u001b[38;5;241m*\u001b[39m\u001b[38;5;241m2\u001b[39m)\n\u001b[1;32m     11\u001b[0m train_l_sum \u001b[38;5;241m+\u001b[39m\u001b[38;5;241m=\u001b[39m l\n\u001b[1;32m     12\u001b[0m optimizer\u001b[38;5;241m.\u001b[39mzero_grad()\n",
      "File \u001b[0;32m~/miniconda3/envs/pytorch/lib/python3.11/site-packages/torch/nn/modules/module.py:1518\u001b[0m, in \u001b[0;36mModule._wrapped_call_impl\u001b[0;34m(self, *args, **kwargs)\u001b[0m\n\u001b[1;32m   1516\u001b[0m     \u001b[38;5;28;01mreturn\u001b[39;00m \u001b[38;5;28mself\u001b[39m\u001b[38;5;241m.\u001b[39m_compiled_call_impl(\u001b[38;5;241m*\u001b[39margs, \u001b[38;5;241m*\u001b[39m\u001b[38;5;241m*\u001b[39mkwargs)  \u001b[38;5;66;03m# type: ignore[misc]\u001b[39;00m\n\u001b[1;32m   1517\u001b[0m \u001b[38;5;28;01melse\u001b[39;00m:\n\u001b[0;32m-> 1518\u001b[0m     \u001b[38;5;28;01mreturn\u001b[39;00m \u001b[38;5;28mself\u001b[39m\u001b[38;5;241m.\u001b[39m_call_impl(\u001b[38;5;241m*\u001b[39margs, \u001b[38;5;241m*\u001b[39m\u001b[38;5;241m*\u001b[39mkwargs)\n",
      "File \u001b[0;32m~/miniconda3/envs/pytorch/lib/python3.11/site-packages/torch/nn/modules/module.py:1527\u001b[0m, in \u001b[0;36mModule._call_impl\u001b[0;34m(self, *args, **kwargs)\u001b[0m\n\u001b[1;32m   1522\u001b[0m \u001b[38;5;66;03m# If we don't have any hooks, we want to skip the rest of the logic in\u001b[39;00m\n\u001b[1;32m   1523\u001b[0m \u001b[38;5;66;03m# this function, and just call forward.\u001b[39;00m\n\u001b[1;32m   1524\u001b[0m \u001b[38;5;28;01mif\u001b[39;00m \u001b[38;5;129;01mnot\u001b[39;00m (\u001b[38;5;28mself\u001b[39m\u001b[38;5;241m.\u001b[39m_backward_hooks \u001b[38;5;129;01mor\u001b[39;00m \u001b[38;5;28mself\u001b[39m\u001b[38;5;241m.\u001b[39m_backward_pre_hooks \u001b[38;5;129;01mor\u001b[39;00m \u001b[38;5;28mself\u001b[39m\u001b[38;5;241m.\u001b[39m_forward_hooks \u001b[38;5;129;01mor\u001b[39;00m \u001b[38;5;28mself\u001b[39m\u001b[38;5;241m.\u001b[39m_forward_pre_hooks\n\u001b[1;32m   1525\u001b[0m         \u001b[38;5;129;01mor\u001b[39;00m _global_backward_pre_hooks \u001b[38;5;129;01mor\u001b[39;00m _global_backward_hooks\n\u001b[1;32m   1526\u001b[0m         \u001b[38;5;129;01mor\u001b[39;00m _global_forward_hooks \u001b[38;5;129;01mor\u001b[39;00m _global_forward_pre_hooks):\n\u001b[0;32m-> 1527\u001b[0m     \u001b[38;5;28;01mreturn\u001b[39;00m forward_call(\u001b[38;5;241m*\u001b[39margs, \u001b[38;5;241m*\u001b[39m\u001b[38;5;241m*\u001b[39mkwargs)\n\u001b[1;32m   1529\u001b[0m \u001b[38;5;28;01mtry\u001b[39;00m:\n\u001b[1;32m   1530\u001b[0m     result \u001b[38;5;241m=\u001b[39m \u001b[38;5;28;01mNone\u001b[39;00m\n",
      "File \u001b[0;32m/mnt/d/AI_workspace/Pytorch-MSCRED/model/mscred.py:114\u001b[0m, in \u001b[0;36mMSCRED.forward\u001b[0;34m(self, x)\u001b[0m\n\u001b[1;32m    112\u001b[0m \u001b[38;5;28;01mdef\u001b[39;00m \u001b[38;5;21mforward\u001b[39m(\u001b[38;5;28mself\u001b[39m, x):\n\u001b[1;32m    113\u001b[0m     conv1_out, conv2_out, conv3_out, conv4_out \u001b[38;5;241m=\u001b[39m \u001b[38;5;28mself\u001b[39m\u001b[38;5;241m.\u001b[39mcnn_encoder(x)\n\u001b[0;32m--> 114\u001b[0m     conv1_lstm_out, conv2_lstm_out, conv3_lstm_out, conv4_lstm_out \u001b[38;5;241m=\u001b[39m \u001b[38;5;28mself\u001b[39m\u001b[38;5;241m.\u001b[39mconv_lstm(\n\u001b[1;32m    115\u001b[0m                             conv1_out, conv2_out, conv3_out, conv4_out)\n\u001b[1;32m    117\u001b[0m     gen_x \u001b[38;5;241m=\u001b[39m \u001b[38;5;28mself\u001b[39m\u001b[38;5;241m.\u001b[39mcnn_decoder(conv1_lstm_out, conv2_lstm_out, \n\u001b[1;32m    118\u001b[0m                             conv3_lstm_out, conv4_lstm_out)\n\u001b[1;32m    119\u001b[0m     \u001b[38;5;28;01mreturn\u001b[39;00m gen_x\n",
      "File \u001b[0;32m~/miniconda3/envs/pytorch/lib/python3.11/site-packages/torch/nn/modules/module.py:1518\u001b[0m, in \u001b[0;36mModule._wrapped_call_impl\u001b[0;34m(self, *args, **kwargs)\u001b[0m\n\u001b[1;32m   1516\u001b[0m     \u001b[38;5;28;01mreturn\u001b[39;00m \u001b[38;5;28mself\u001b[39m\u001b[38;5;241m.\u001b[39m_compiled_call_impl(\u001b[38;5;241m*\u001b[39margs, \u001b[38;5;241m*\u001b[39m\u001b[38;5;241m*\u001b[39mkwargs)  \u001b[38;5;66;03m# type: ignore[misc]\u001b[39;00m\n\u001b[1;32m   1517\u001b[0m \u001b[38;5;28;01melse\u001b[39;00m:\n\u001b[0;32m-> 1518\u001b[0m     \u001b[38;5;28;01mreturn\u001b[39;00m \u001b[38;5;28mself\u001b[39m\u001b[38;5;241m.\u001b[39m_call_impl(\u001b[38;5;241m*\u001b[39margs, \u001b[38;5;241m*\u001b[39m\u001b[38;5;241m*\u001b[39mkwargs)\n",
      "File \u001b[0;32m~/miniconda3/envs/pytorch/lib/python3.11/site-packages/torch/nn/modules/module.py:1527\u001b[0m, in \u001b[0;36mModule._call_impl\u001b[0;34m(self, *args, **kwargs)\u001b[0m\n\u001b[1;32m   1522\u001b[0m \u001b[38;5;66;03m# If we don't have any hooks, we want to skip the rest of the logic in\u001b[39;00m\n\u001b[1;32m   1523\u001b[0m \u001b[38;5;66;03m# this function, and just call forward.\u001b[39;00m\n\u001b[1;32m   1524\u001b[0m \u001b[38;5;28;01mif\u001b[39;00m \u001b[38;5;129;01mnot\u001b[39;00m (\u001b[38;5;28mself\u001b[39m\u001b[38;5;241m.\u001b[39m_backward_hooks \u001b[38;5;129;01mor\u001b[39;00m \u001b[38;5;28mself\u001b[39m\u001b[38;5;241m.\u001b[39m_backward_pre_hooks \u001b[38;5;129;01mor\u001b[39;00m \u001b[38;5;28mself\u001b[39m\u001b[38;5;241m.\u001b[39m_forward_hooks \u001b[38;5;129;01mor\u001b[39;00m \u001b[38;5;28mself\u001b[39m\u001b[38;5;241m.\u001b[39m_forward_pre_hooks\n\u001b[1;32m   1525\u001b[0m         \u001b[38;5;129;01mor\u001b[39;00m _global_backward_pre_hooks \u001b[38;5;129;01mor\u001b[39;00m _global_backward_hooks\n\u001b[1;32m   1526\u001b[0m         \u001b[38;5;129;01mor\u001b[39;00m _global_forward_hooks \u001b[38;5;129;01mor\u001b[39;00m _global_forward_pre_hooks):\n\u001b[0;32m-> 1527\u001b[0m     \u001b[38;5;28;01mreturn\u001b[39;00m forward_call(\u001b[38;5;241m*\u001b[39margs, \u001b[38;5;241m*\u001b[39m\u001b[38;5;241m*\u001b[39mkwargs)\n\u001b[1;32m   1529\u001b[0m \u001b[38;5;28;01mtry\u001b[39;00m:\n\u001b[1;32m   1530\u001b[0m     result \u001b[38;5;241m=\u001b[39m \u001b[38;5;28;01mNone\u001b[39;00m\n",
      "File \u001b[0;32m/mnt/d/AI_workspace/Pytorch-MSCRED/model/mscred.py:65\u001b[0m, in \u001b[0;36mConv_LSTM.forward\u001b[0;34m(self, conv1_out, conv2_out, conv3_out, conv4_out)\u001b[0m\n\u001b[1;32m     62\u001b[0m \u001b[38;5;28;01mdef\u001b[39;00m \u001b[38;5;21mforward\u001b[39m(\u001b[38;5;28mself\u001b[39m, conv1_out, conv2_out, \n\u001b[1;32m     63\u001b[0m             conv3_out, conv4_out):\n\u001b[1;32m     64\u001b[0m     conv1_lstm_out \u001b[38;5;241m=\u001b[39m \u001b[38;5;28mself\u001b[39m\u001b[38;5;241m.\u001b[39mconv1_lstm(conv1_out)\n\u001b[0;32m---> 65\u001b[0m     conv1_lstm_out \u001b[38;5;241m=\u001b[39m attention(conv1_lstm_out[\u001b[38;5;241m0\u001b[39m][\u001b[38;5;241m0\u001b[39m])\n\u001b[1;32m     66\u001b[0m     conv2_lstm_out \u001b[38;5;241m=\u001b[39m \u001b[38;5;28mself\u001b[39m\u001b[38;5;241m.\u001b[39mconv2_lstm(conv2_out)\n\u001b[1;32m     67\u001b[0m     conv2_lstm_out \u001b[38;5;241m=\u001b[39m attention(conv2_lstm_out[\u001b[38;5;241m0\u001b[39m][\u001b[38;5;241m0\u001b[39m])\n",
      "File \u001b[0;32m/mnt/d/AI_workspace/Pytorch-MSCRED/model/mscred.py:11\u001b[0m, in \u001b[0;36mattention\u001b[0;34m(ConvLstm_out)\u001b[0m\n\u001b[1;32m      9\u001b[0m \u001b[38;5;28msum\u001b[39m \u001b[38;5;241m=\u001b[39m \u001b[38;5;241m0\u001b[39m\n\u001b[1;32m     10\u001b[0m \u001b[38;5;28;01mfor\u001b[39;00m k \u001b[38;5;129;01min\u001b[39;00m \u001b[38;5;28mrange\u001b[39m(\u001b[38;5;241m5\u001b[39m):\n\u001b[0;32m---> 11\u001b[0m     \u001b[38;5;28msum\u001b[39m \u001b[38;5;241m+\u001b[39m\u001b[38;5;241m=\u001b[39m torch\u001b[38;5;241m.\u001b[39msum(torch\u001b[38;5;241m.\u001b[39mexp(torch\u001b[38;5;241m.\u001b[39mmul(ConvLstm_out[k], ConvLstm_out[\u001b[38;5;241m-\u001b[39m\u001b[38;5;241m1\u001b[39m])\u001b[38;5;241m/\u001b[39m\u001b[38;5;241m5\u001b[39m))\n\u001b[1;32m     13\u001b[0m \u001b[38;5;28;01mfor\u001b[39;00m k \u001b[38;5;129;01min\u001b[39;00m \u001b[38;5;28mrange\u001b[39m(\u001b[38;5;241m5\u001b[39m):\n\u001b[1;32m     14\u001b[0m     attention_w\u001b[38;5;241m.\u001b[39mappend(torch\u001b[38;5;241m.\u001b[39msum((torch\u001b[38;5;241m.\u001b[39mexp(torch\u001b[38;5;241m.\u001b[39mmul(ConvLstm_out[k], ConvLstm_out[\u001b[38;5;241m-\u001b[39m\u001b[38;5;241m1\u001b[39m])\u001b[38;5;241m/\u001b[39m\u001b[38;5;241m5\u001b[39m)) \u001b[38;5;241m/\u001b[39m \u001b[38;5;28msum\u001b[39m))\n",
      "\u001b[0;31mIndexError\u001b[0m: index 1 is out of bounds for dimension 0 with size 1"
     ]
    }
   ],
   "source": [
    "if __name__ == '__main__':\n",
    "    device = torch.device(\"cuda\" if torch.cuda.is_available() else \"cpu\")\n",
    "    print(\"device is\", device)\n",
    "    dataLoader = load_data()\n",
    "    mscred = MSCRED(3, 256)\n",
    "\n",
    "    # 训练阶段\n",
    "    # mscred.load_state_dict(torch.load(\"./checkpoints/model1.pth\"))\n",
    "    optimizer = torch.optim.Adam(mscred.parameters(), lr = 0.0002)\n",
    "    train(dataLoader[\"train\"], mscred, optimizer, 10, device)"
   ]
  },
  {
   "cell_type": "code",
   "execution_count": null,
   "id": "e34d3bcf-c179-4ecc-8cd8-3c8300cd62fa",
   "metadata": {},
   "outputs": [],
   "source": [
    "    print(\"保存模型中....\")\n",
    "    #torch.save(mscred.state_dict(), \"./checkpoints/model2.pth\")"
   ]
  },
  {
   "cell_type": "code",
   "execution_count": null,
   "id": "fd14823c-5e44-4237-a83b-0cc106514cb6",
   "metadata": {},
   "outputs": [],
   "source": [
    "    # # 测试阶段\n",
    "    mscred.load_state_dict(torch.load(\"./checkpoints/model2.pth\"))\n",
    "    mscred.to(device)\n",
    "    test(dataLoader[\"test\"], mscred)"
   ]
  },
  {
   "cell_type": "code",
   "execution_count": null,
   "id": "7414919b-035b-4b06-b377-bac3c2129839",
   "metadata": {},
   "outputs": [],
   "source": [
    "    sum = 0\n",
    "    #criterion = torch.nn.MSELoss()\n",
    "    criterion = torch.sub\n",
    "    \n",
    "    print(\"------Testing-------\")\n",
    "    index = 800\n",
    "    loss_list = []\n",
    "    reconstructed_data_path = \"./utils/data/matrix_data/reconstructed_data/\"\n",
    "    \n",
    "    if not os.path.exists(reconstructed_data_path):\n",
    "        os.makedirs(reconstructed_data_path)\n",
    "    \n",
    "    with torch.no_grad():\n",
    "        for x in dataLoader['test']:\n",
    "            x = x.to(device)\n",
    "            x = x.squeeze()\n",
    "            reconstructed_matrix = mscred(x) \n",
    "            #path_temp = os.path.join(reconstructed_data_path, 'reconstructed_data_' + str(index) + \".npy\")\n",
    "            #np.save(path_temp, reconstructed_matrix.cpu().detach().numpy())\n",
    "            l = criterion(reconstructed_matrix, x[-1].unsqueeze(0)).mean()\n",
    "            sum += l\n",
    "            loss_list.append(l)\n",
    "            #print(\"[test_index %d] [loss: %f]\" % (index, l.item()))\n",
    "            index += 1"
   ]
  },
  {
   "cell_type": "code",
   "execution_count": null,
   "id": "76d69697-c1fd-433e-8e81-443cfe086109",
   "metadata": {},
   "outputs": [],
   "source": [
    "mean = sum / len(loss_list)"
   ]
  },
  {
   "cell_type": "code",
   "execution_count": null,
   "id": "73abaea9-ad56-447c-bc83-ab269980d1d7",
   "metadata": {},
   "outputs": [],
   "source": [
    "mean"
   ]
  },
  {
   "cell_type": "code",
   "execution_count": null,
   "id": "2548b25a-7def-4d5a-9cde-3212d28fc8a9",
   "metadata": {},
   "outputs": [],
   "source": [
    "torch.stack(loss_list[:10])[:]"
   ]
  },
  {
   "cell_type": "code",
   "execution_count": null,
   "id": "80c24b3a-51ec-4b03-ac40-cd2d873d94d8",
   "metadata": {},
   "outputs": [],
   "source": [
    "std = torch.std(torch.stack(loss_list[:]))"
   ]
  },
  {
   "cell_type": "code",
   "execution_count": null,
   "id": "a6e240e2-995d-4f83-938e-20ab573149aa",
   "metadata": {},
   "outputs": [],
   "source": [
    "std"
   ]
  },
  {
   "cell_type": "code",
   "execution_count": null,
   "id": "81ecd4b5-b6ad-457d-8b98-77cbe4c63912",
   "metadata": {},
   "outputs": [],
   "source": [
    "mean + std * 2"
   ]
  },
  {
   "cell_type": "code",
   "execution_count": null,
   "id": "f9bd5770-94c3-4737-acc9-2087ce1047a4",
   "metadata": {},
   "outputs": [],
   "source": []
  }
 ],
 "metadata": {
  "kernelspec": {
   "display_name": "Python 3 (ipykernel)",
   "language": "python",
   "name": "python3"
  },
  "language_info": {
   "codemirror_mode": {
    "name": "ipython",
    "version": 3
   },
   "file_extension": ".py",
   "mimetype": "text/x-python",
   "name": "python",
   "nbconvert_exporter": "python",
   "pygments_lexer": "ipython3",
   "version": "3.11.5"
  }
 },
 "nbformat": 4,
 "nbformat_minor": 5
}
