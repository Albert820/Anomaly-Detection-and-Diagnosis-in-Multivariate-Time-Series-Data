{
 "cells": [
  {
   "cell_type": "code",
   "execution_count": 1,
   "id": "d3490ec1-8a80-4cea-bd96-8af21fe58c75",
   "metadata": {},
   "outputs": [],
   "source": [
    "import torch\n",
    "import torch.nn as nn\n",
    "import torch.functional as F \n",
    "from tqdm import tqdm\n",
    "from model.mscred import MSCRED\n",
    "from utils.data import load_data\n",
    "import matplotlib.pyplot as plt\n",
    "import numpy as np\n",
    "import os"
   ]
  },
  {
   "cell_type": "code",
   "execution_count": 2,
   "id": "f9b03225-7980-47fc-a0c9-5c455bf72c09",
   "metadata": {},
   "outputs": [],
   "source": [
    "def train(dataLoader, model, optimizer, epochs, device):\n",
    "    model = model.to(device)\n",
    "    print(\"------training on {}-------\".format(device))\n",
    "    for epoch in range(epochs):\n",
    "        train_l_sum,n = 0.0, 0\n",
    "        for x in tqdm(dataLoader):\n",
    "            x = x.to(device)\n",
    "            x = x.squeeze()\n",
    "            #print(type(x))\n",
    "\n",
    "            '''\n",
    "            torch.autograd.set_detect_anomaly(True)\n",
    "            model_output = model(x)\n",
    "            l = torch.mean((model_output-x[-1].unsqueeze(0))**2)\n",
    "            '''\n",
    "            \n",
    "            l = torch.mean((model(x)-x[-1].unsqueeze(0))**2)\n",
    "            train_l_sum += l\n",
    "            optimizer.zero_grad()\n",
    "            '''\n",
    "            with torch.autograd.detect_anomaly():\n",
    "                l.backward()\n",
    "            '''\n",
    "            l.backward()\n",
    "            optimizer.step()\n",
    "            n += 1\n",
    "            #print(\"[Epoch %d/%d][Batch %d/%d] [loss: %f]\" % (epoch+1, epochs, n, len(dataLoader), l.item()))\n",
    "            \n",
    "        print(\"[Epoch %d/%d] [loss: %f]\" % (epoch+1, epochs, train_l_sum/n))\n",
    "\n",
    "def test(dataLoader, model):\n",
    "    print(\"------Testing-------\")\n",
    "    index = 800\n",
    "    loss_list = []\n",
    "    reconstructed_data_path = \"./utils/data/matrix_data/reconstructed_data/\"\n",
    "    \n",
    "    if not os.path.exists(reconstructed_data_path):\n",
    "        os.makedirs(reconstructed_data_path)\n",
    "    \n",
    "    with torch.no_grad():\n",
    "        for x in dataLoader:\n",
    "            x = x.to(device)\n",
    "            x = x.squeeze()\n",
    "            reconstructed_matrix = model(x) \n",
    "            path_temp = os.path.join(reconstructed_data_path, 'reconstructed_data_' + str(index) + \".npy\")\n",
    "            np.save(path_temp, reconstructed_matrix.cpu().detach().numpy())\n",
    "            # l = criterion(reconstructed_matrix, x[-1].unsqueeze(0)).mean()\n",
    "            # loss_list.append(l)\n",
    "            # print(\"[test_index %d] [loss: %f]\" % (index, l.item()))\n",
    "            index += 1"
   ]
  },
  {
   "cell_type": "code",
   "execution_count": 3,
   "id": "3fc0b98b-3530-453d-9e60-c1971bbae459",
   "metadata": {},
   "outputs": [
    {
     "name": "stdout",
     "output_type": "stream",
     "text": [
      "device is cuda\n",
      "------training on cuda-------\n"
     ]
    },
    {
     "name": "stderr",
     "output_type": "stream",
     "text": [
      "  0%|                                                                                           | 0/789 [00:00<?, ?it/s]/home/albert/miniconda3/envs/pytorch/lib/python3.11/site-packages/torch/nn/modules/module.py:1518: UserWarning: Implicit dimension choice for softmax has been deprecated. Change the call to include dim=X as an argument.\n",
      "  return self._call_impl(*args, **kwargs)\n",
      "100%|█████████████████████████████████████████████████████████████████████████████████| 789/789 [00:39<00:00, 19.86it/s]\n"
     ]
    },
    {
     "name": "stdout",
     "output_type": "stream",
     "text": [
      "[Epoch 1/10] [loss: 0.001739]\n"
     ]
    },
    {
     "name": "stderr",
     "output_type": "stream",
     "text": [
      "100%|█████████████████████████████████████████████████████████████████████████████████| 789/789 [00:39<00:00, 20.05it/s]\n"
     ]
    },
    {
     "name": "stdout",
     "output_type": "stream",
     "text": [
      "[Epoch 2/10] [loss: 0.000159]\n"
     ]
    },
    {
     "name": "stderr",
     "output_type": "stream",
     "text": [
      "100%|█████████████████████████████████████████████████████████████████████████████████| 789/789 [00:41<00:00, 19.21it/s]\n"
     ]
    },
    {
     "name": "stdout",
     "output_type": "stream",
     "text": [
      "[Epoch 3/10] [loss: 0.000087]\n"
     ]
    },
    {
     "name": "stderr",
     "output_type": "stream",
     "text": [
      "100%|█████████████████████████████████████████████████████████████████████████████████| 789/789 [00:43<00:00, 18.22it/s]\n"
     ]
    },
    {
     "name": "stdout",
     "output_type": "stream",
     "text": [
      "[Epoch 4/10] [loss: 0.000066]\n"
     ]
    },
    {
     "name": "stderr",
     "output_type": "stream",
     "text": [
      "100%|█████████████████████████████████████████████████████████████████████████████████| 789/789 [00:38<00:00, 20.48it/s]\n"
     ]
    },
    {
     "name": "stdout",
     "output_type": "stream",
     "text": [
      "[Epoch 5/10] [loss: 0.000046]\n"
     ]
    },
    {
     "name": "stderr",
     "output_type": "stream",
     "text": [
      "100%|█████████████████████████████████████████████████████████████████████████████████| 789/789 [00:37<00:00, 20.90it/s]\n"
     ]
    },
    {
     "name": "stdout",
     "output_type": "stream",
     "text": [
      "[Epoch 6/10] [loss: 0.000041]\n"
     ]
    },
    {
     "name": "stderr",
     "output_type": "stream",
     "text": [
      "100%|█████████████████████████████████████████████████████████████████████████████████| 789/789 [00:39<00:00, 20.14it/s]\n"
     ]
    },
    {
     "name": "stdout",
     "output_type": "stream",
     "text": [
      "[Epoch 7/10] [loss: 0.000034]\n"
     ]
    },
    {
     "name": "stderr",
     "output_type": "stream",
     "text": [
      "100%|█████████████████████████████████████████████████████████████████████████████████| 789/789 [00:37<00:00, 21.09it/s]\n"
     ]
    },
    {
     "name": "stdout",
     "output_type": "stream",
     "text": [
      "[Epoch 8/10] [loss: 0.000032]\n"
     ]
    },
    {
     "name": "stderr",
     "output_type": "stream",
     "text": [
      "100%|█████████████████████████████████████████████████████████████████████████████████| 789/789 [00:37<00:00, 21.30it/s]\n"
     ]
    },
    {
     "name": "stdout",
     "output_type": "stream",
     "text": [
      "[Epoch 9/10] [loss: 0.000025]\n"
     ]
    },
    {
     "name": "stderr",
     "output_type": "stream",
     "text": [
      "100%|█████████████████████████████████████████████████████████████████████████████████| 789/789 [00:38<00:00, 20.48it/s]\n"
     ]
    },
    {
     "name": "stdout",
     "output_type": "stream",
     "text": [
      "[Epoch 10/10] [loss: 0.000026]\n"
     ]
    }
   ],
   "source": [
    "if __name__ == '__main__':\n",
    "    device = torch.device(\"cuda\" if torch.cuda.is_available() else \"cpu\")\n",
    "    print(\"device is\", device)\n",
    "    dataLoader = load_data()\n",
    "    mscred = MSCRED(3, 256)\n",
    "\n",
    "    # 训练阶段\n",
    "    # mscred.load_state_dict(torch.load(\"./checkpoints/model1.pth\"))\n",
    "    optimizer = torch.optim.Adam(mscred.parameters(), lr = 0.0002)\n",
    "    train(dataLoader[\"train\"], mscred, optimizer, 10, device)"
   ]
  },
  {
   "cell_type": "code",
   "execution_count": 4,
   "id": "e34d3bcf-c179-4ecc-8cd8-3c8300cd62fa",
   "metadata": {},
   "outputs": [
    {
     "name": "stdout",
     "output_type": "stream",
     "text": [
      "保存模型中....\n"
     ]
    }
   ],
   "source": [
    "    print(\"保存模型中....\")\n",
    "    #torch.save(mscred.state_dict(), \"./checkpoints/model2.pth\")"
   ]
  },
  {
   "cell_type": "code",
   "execution_count": 5,
   "id": "fd14823c-5e44-4237-a83b-0cc106514cb6",
   "metadata": {},
   "outputs": [
    {
     "name": "stdout",
     "output_type": "stream",
     "text": [
      "------Testing-------\n"
     ]
    }
   ],
   "source": [
    "    # # 测试阶段\n",
    "    mscred.load_state_dict(torch.load(\"./checkpoints/model2.pth\"))\n",
    "    mscred.to(device)\n",
    "    test(dataLoader[\"test\"], mscred)"
   ]
  },
  {
   "cell_type": "code",
   "execution_count": 6,
   "id": "7414919b-035b-4b06-b377-bac3c2129839",
   "metadata": {},
   "outputs": [
    {
     "name": "stdout",
     "output_type": "stream",
     "text": [
      "------Testing-------\n"
     ]
    }
   ],
   "source": [
    "    sum = 0\n",
    "    #criterion = torch.nn.MSELoss()\n",
    "    criterion = torch.sub\n",
    "    \n",
    "    print(\"------Testing-------\")\n",
    "    index = 800\n",
    "    loss_list = []\n",
    "    reconstructed_data_path = \"./utils/data/matrix_data/reconstructed_data/\"\n",
    "    \n",
    "    if not os.path.exists(reconstructed_data_path):\n",
    "        os.makedirs(reconstructed_data_path)\n",
    "    \n",
    "    with torch.no_grad():\n",
    "        for x in dataLoader['test']:\n",
    "            x = x.to(device)\n",
    "            x = x.squeeze()\n",
    "            reconstructed_matrix = mscred(x) \n",
    "            #path_temp = os.path.join(reconstructed_data_path, 'reconstructed_data_' + str(index) + \".npy\")\n",
    "            #np.save(path_temp, reconstructed_matrix.cpu().detach().numpy())\n",
    "            l = criterion(reconstructed_matrix, x[-1].unsqueeze(0)).mean()\n",
    "            sum += l\n",
    "            loss_list.append(l)\n",
    "            #print(\"[test_index %d] [loss: %f]\" % (index, l.item()))\n",
    "            index += 1"
   ]
  },
  {
   "cell_type": "code",
   "execution_count": 7,
   "id": "76d69697-c1fd-433e-8e81-443cfe086109",
   "metadata": {},
   "outputs": [],
   "source": [
    "mean = sum / len(loss_list)"
   ]
  },
  {
   "cell_type": "code",
   "execution_count": 8,
   "id": "73abaea9-ad56-447c-bc83-ab269980d1d7",
   "metadata": {},
   "outputs": [
    {
     "data": {
      "text/plain": [
       "tensor(-0.0008, device='cuda:0')"
      ]
     },
     "execution_count": 8,
     "metadata": {},
     "output_type": "execute_result"
    }
   ],
   "source": [
    "mean"
   ]
  },
  {
   "cell_type": "code",
   "execution_count": 9,
   "id": "2548b25a-7def-4d5a-9cde-3212d28fc8a9",
   "metadata": {},
   "outputs": [
    {
     "data": {
      "text/plain": [
       "tensor([-0.0097, -0.0101, -0.0073, -0.0056, -0.0042, -0.0012, -0.0028, -0.0005,\n",
       "         0.0026,  0.0027], device='cuda:0')"
      ]
     },
     "execution_count": 9,
     "metadata": {},
     "output_type": "execute_result"
    }
   ],
   "source": [
    "torch.stack(loss_list[:10])[:]"
   ]
  },
  {
   "cell_type": "code",
   "execution_count": 10,
   "id": "80c24b3a-51ec-4b03-ac40-cd2d873d94d8",
   "metadata": {},
   "outputs": [],
   "source": [
    "std = torch.std(torch.stack(loss_list[:]))"
   ]
  },
  {
   "cell_type": "code",
   "execution_count": 11,
   "id": "a6e240e2-995d-4f83-938e-20ab573149aa",
   "metadata": {},
   "outputs": [
    {
     "data": {
      "text/plain": [
       "tensor(0.0101, device='cuda:0')"
      ]
     },
     "execution_count": 11,
     "metadata": {},
     "output_type": "execute_result"
    }
   ],
   "source": [
    "std"
   ]
  },
  {
   "cell_type": "code",
   "execution_count": 12,
   "id": "81ecd4b5-b6ad-457d-8b98-77cbe4c63912",
   "metadata": {},
   "outputs": [
    {
     "data": {
      "text/plain": [
       "tensor(0.0194, device='cuda:0')"
      ]
     },
     "execution_count": 12,
     "metadata": {},
     "output_type": "execute_result"
    }
   ],
   "source": [
    "mean + std * 2"
   ]
  },
  {
   "cell_type": "code",
   "execution_count": null,
   "id": "f9bd5770-94c3-4737-acc9-2087ce1047a4",
   "metadata": {},
   "outputs": [],
   "source": []
  }
 ],
 "metadata": {
  "kernelspec": {
   "display_name": "Python 3 (ipykernel)",
   "language": "python",
   "name": "python3"
  },
  "language_info": {
   "codemirror_mode": {
    "name": "ipython",
    "version": 3
   },
   "file_extension": ".py",
   "mimetype": "text/x-python",
   "name": "python",
   "nbconvert_exporter": "python",
   "pygments_lexer": "ipython3",
   "version": "3.11.5"
  }
 },
 "nbformat": 4,
 "nbformat_minor": 5
}
